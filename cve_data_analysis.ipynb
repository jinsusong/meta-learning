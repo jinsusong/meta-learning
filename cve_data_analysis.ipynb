{
  "nbformat": 4,
  "nbformat_minor": 0,
  "metadata": {
    "colab": {
      "private_outputs": true,
      "provenance": [],
      "authorship_tag": "ABX9TyPMVfCt/+bWtaV46XpRudgF",
      "include_colab_link": true
    },
    "kernelspec": {
      "name": "python3",
      "display_name": "Python 3"
    },
    "language_info": {
      "name": "python"
    }
  },
  "cells": [
    {
      "cell_type": "markdown",
      "metadata": {
        "id": "view-in-github",
        "colab_type": "text"
      },
      "source": [
        "<a href=\"https://colab.research.google.com/github/jinsusong/meta-learning/blob/main/cve_data_analysis.ipynb\" target=\"_parent\"><img src=\"https://colab.research.google.com/assets/colab-badge.svg\" alt=\"Open In Colab\"/></a>"
      ]
    },
    {
      "cell_type": "code",
      "execution_count": null,
      "metadata": {
        "id": "rLzRGobnUN4x"
      },
      "outputs": [],
      "source": [
        "from google.colab import drive\n",
        "drive.mount('/content/drive')"
      ]
    },
    {
      "cell_type": "code",
      "source": [
        "%cd \"/content/drive/MyDrive/Meta\""
      ],
      "metadata": {
        "id": "fomBY5cCUZuo"
      },
      "execution_count": null,
      "outputs": []
    },
    {
      "cell_type": "code",
      "source": [
        "import pandas as pd\n",
        "\n",
        "data = pd.read_excel(\"/content/drive/MyDrive/Meta/SD_Vulnerability_Dataset.xlsx\")\n",
        "data"
      ],
      "metadata": {
        "id": "B2qjFb7-UcPm"
      },
      "execution_count": null,
      "outputs": []
    },
    {
      "cell_type": "code",
      "source": [
        "type(data)"
      ],
      "metadata": {
        "id": "CAHHf0lxV-Z_"
      },
      "execution_count": null,
      "outputs": []
    },
    {
      "cell_type": "code",
      "source": [
        "data = data[['index','CVE-ID','DESCRIPTION', 'CWE-ID','CWE-NAME']]\n",
        "data"
      ],
      "metadata": {
        "id": "Yb_pTrNLWyfm"
      },
      "execution_count": null,
      "outputs": []
    },
    {
      "cell_type": "code",
      "source": [
        "pd.set_option('display.max_row', 500)\n",
        "pd.set_option('display.max_columns', 100)\n",
        "\n",
        "print(\"shape : \",data.shape)\n",
        "# 유일한 값 찾기 \n",
        "print(\"\\nlen : \",len(data['CWE-ID'].unique()))\n",
        "\n",
        "# CWE-ID 유일한 값별로 개수 세기 \n",
        "data['CWE-ID'].value_counts()\n",
        "\n",
        "# 유일 값 별 상대적 비율\n",
        "# data['CWE-ID'].value_counts(normalize=True) "
      ],
      "metadata": {
        "id": "TE4l7j1PXiLF"
      },
      "execution_count": null,
      "outputs": []
    },
    {
      "cell_type": "code",
      "source": [
        "# 그래프 확인\n",
        "CountStatus = pd.value_counts(data['CWE-ID'].values, sort=True)\n",
        "CountStatus.plot.bar()\n",
        "CountStatus.plot.bar(grid=True, figsize=(10,8), fontsize=15)  # figsize, fontsize 조정"
      ],
      "metadata": {
        "id": "KzbLok5yYJO-"
      },
      "execution_count": null,
      "outputs": []
    },
    {
      "cell_type": "code",
      "source": [],
      "metadata": {
        "id": "Qd_QTMOWZqKt"
      },
      "execution_count": null,
      "outputs": []
    }
  ]
}